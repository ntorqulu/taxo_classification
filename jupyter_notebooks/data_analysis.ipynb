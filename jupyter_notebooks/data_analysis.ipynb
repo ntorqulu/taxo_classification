{
 "cells": [
  {
   "cell_type": "markdown",
   "id": "0852e87d",
   "metadata": {},
   "source": [
    "# Taxonomy Classification Data Analysis\n",
    "This notebook analyzes the taxonomy dataset to guide classifier development decisions."
   ]
  },
  {
   "cell_type": "code",
   "execution_count": 1,
   "id": "94d3ed1f",
   "metadata": {},
   "outputs": [],
   "source": [
    "import pandas as pd\n",
    "import numpy as np\n",
    "import matplotlib.pyplot as plt\n",
    "import seaborn as sns\n",
    "import os\n",
    "from collections import Counter\n",
    "import sys\n",
    "# Add the src directory to path for imports\n",
    "sys.path.append('../src/reformat_data')\n",
    "\n",
    "# Set plot style\n",
    "plt.style.use('ggplot')\n",
    "sns.set(font_scale=1.2)\n",
    "sns.set_style(\"whitegrid\")\n",
    "\n",
    "# Display settings\n",
    "pd.set_option('display.max_columns', None)\n",
    "pd.set_option('display.max_rows', 100)"
   ]
  },
  {
   "cell_type": "markdown",
   "id": "7f0b0543",
   "metadata": {},
   "source": [
    "## 1. Load and Explore the Dataset"
   ]
  },
  {
   "cell_type": "code",
   "execution_count": 2,
   "id": "9564c6ec",
   "metadata": {},
   "outputs": [
    {
     "name": "stdout",
     "output_type": "stream",
     "text": [
      "Dataset shape: (3221455, 12)\n"
     ]
    },
    {
     "data": {
      "text/html": [
       "<div>\n",
       "<style scoped>\n",
       "    .dataframe tbody tr th:only-of-type {\n",
       "        vertical-align: middle;\n",
       "    }\n",
       "\n",
       "    .dataframe tbody tr th {\n",
       "        vertical-align: top;\n",
       "    }\n",
       "\n",
       "    .dataframe thead th {\n",
       "        text-align: right;\n",
       "    }\n",
       "</style>\n",
       "<table border=\"1\" class=\"dataframe\">\n",
       "  <thead>\n",
       "    <tr style=\"text-align: right;\">\n",
       "      <th></th>\n",
       "      <th>seqID</th>\n",
       "      <th>taxID</th>\n",
       "      <th>scientific_name</th>\n",
       "      <th>sequence</th>\n",
       "      <th>superkingdom_name</th>\n",
       "      <th>kingdom_name</th>\n",
       "      <th>phylum_name</th>\n",
       "      <th>class_name</th>\n",
       "      <th>order_name</th>\n",
       "      <th>family_name</th>\n",
       "      <th>genus_name</th>\n",
       "      <th>species_name</th>\n",
       "    </tr>\n",
       "  </thead>\n",
       "  <tbody>\n",
       "    <tr>\n",
       "      <th>0</th>\n",
       "      <td>ManCurSeq_DUFA-COLR-000000001555472-H00000001</td>\n",
       "      <td>1010000010</td>\n",
       "      <td>Bordaia karnka</td>\n",
       "      <td>TTTATCATCAAATATTGCTCATGCTGGTAGATCAGTAGATCTAGCT...</td>\n",
       "      <td>Eukaryota</td>\n",
       "      <td>Metazoa</td>\n",
       "      <td>Arthropoda</td>\n",
       "      <td>Insecta</td>\n",
       "      <td>Lepidoptera</td>\n",
       "      <td>Hepialidae</td>\n",
       "      <td>Bordaia</td>\n",
       "      <td>Bordaia karnka</td>\n",
       "    </tr>\n",
       "    <tr>\n",
       "      <th>1</th>\n",
       "      <td>ManCurSeq_DUFA-COLR-000000001555472-H00000002</td>\n",
       "      <td>1010000010</td>\n",
       "      <td>Bordaia karnka</td>\n",
       "      <td>TTTATCATCAAATATTGCTCATGCTGGTAGATCAGTAGATTTAGCT...</td>\n",
       "      <td>Eukaryota</td>\n",
       "      <td>Metazoa</td>\n",
       "      <td>Arthropoda</td>\n",
       "      <td>Insecta</td>\n",
       "      <td>Lepidoptera</td>\n",
       "      <td>Hepialidae</td>\n",
       "      <td>Bordaia</td>\n",
       "      <td>Bordaia karnka</td>\n",
       "    </tr>\n",
       "    <tr>\n",
       "      <th>2</th>\n",
       "      <td>ManCurSeq_DUFA-COLR-000000001555333-H00000001</td>\n",
       "      <td>1010000011</td>\n",
       "      <td>Amata pr.</td>\n",
       "      <td>ACTTTCATCTAATATTGCTCATAGAGGAAGTTCAGTTGATTTAGCT...</td>\n",
       "      <td>Eukaryota</td>\n",
       "      <td>Metazoa</td>\n",
       "      <td>Arthropoda</td>\n",
       "      <td>Insecta</td>\n",
       "      <td>Lepidoptera</td>\n",
       "      <td>Erebidae</td>\n",
       "      <td>Amata</td>\n",
       "      <td>Amata pr.</td>\n",
       "    </tr>\n",
       "    <tr>\n",
       "      <th>3</th>\n",
       "      <td>ManCurSeq_DUFA-COLR-000000001560174-H00000001</td>\n",
       "      <td>1010000012</td>\n",
       "      <td>Lophoptera pr.</td>\n",
       "      <td>ACTTTCATCTAATATTGCACATGGAGGAAGATCAGTTGATTTAGCA...</td>\n",
       "      <td>Eukaryota</td>\n",
       "      <td>Metazoa</td>\n",
       "      <td>Arthropoda</td>\n",
       "      <td>Insecta</td>\n",
       "      <td>Lepidoptera</td>\n",
       "      <td>Euteliidae</td>\n",
       "      <td>Lophoptera</td>\n",
       "      <td>Lophoptera pr.</td>\n",
       "    </tr>\n",
       "    <tr>\n",
       "      <th>4</th>\n",
       "      <td>ManCurSeq_DUFA-COLR-000001000000019-H00000001</td>\n",
       "      <td>1010000013</td>\n",
       "      <td>Abyssoninoe scopa</td>\n",
       "      <td>GCTAGCTAGAAACATGGCCCATGCAGGCCCATCTGTAGATTTAGCA...</td>\n",
       "      <td>Eukaryota</td>\n",
       "      <td>Metazoa</td>\n",
       "      <td>Annelida</td>\n",
       "      <td>Polychaeta</td>\n",
       "      <td>Eunicida</td>\n",
       "      <td>Lumbrineridae</td>\n",
       "      <td>Abyssoninoe</td>\n",
       "      <td>Abyssoninoe scopa</td>\n",
       "    </tr>\n",
       "  </tbody>\n",
       "</table>\n",
       "</div>"
      ],
      "text/plain": [
       "                                           seqID       taxID  \\\n",
       "0  ManCurSeq_DUFA-COLR-000000001555472-H00000001  1010000010   \n",
       "1  ManCurSeq_DUFA-COLR-000000001555472-H00000002  1010000010   \n",
       "2  ManCurSeq_DUFA-COLR-000000001555333-H00000001  1010000011   \n",
       "3  ManCurSeq_DUFA-COLR-000000001560174-H00000001  1010000012   \n",
       "4  ManCurSeq_DUFA-COLR-000001000000019-H00000001  1010000013   \n",
       "\n",
       "     scientific_name                                           sequence  \\\n",
       "0     Bordaia karnka  TTTATCATCAAATATTGCTCATGCTGGTAGATCAGTAGATCTAGCT...   \n",
       "1     Bordaia karnka  TTTATCATCAAATATTGCTCATGCTGGTAGATCAGTAGATTTAGCT...   \n",
       "2          Amata pr.  ACTTTCATCTAATATTGCTCATAGAGGAAGTTCAGTTGATTTAGCT...   \n",
       "3     Lophoptera pr.  ACTTTCATCTAATATTGCACATGGAGGAAGATCAGTTGATTTAGCA...   \n",
       "4  Abyssoninoe scopa  GCTAGCTAGAAACATGGCCCATGCAGGCCCATCTGTAGATTTAGCA...   \n",
       "\n",
       "  superkingdom_name kingdom_name phylum_name  class_name   order_name  \\\n",
       "0         Eukaryota      Metazoa  Arthropoda     Insecta  Lepidoptera   \n",
       "1         Eukaryota      Metazoa  Arthropoda     Insecta  Lepidoptera   \n",
       "2         Eukaryota      Metazoa  Arthropoda     Insecta  Lepidoptera   \n",
       "3         Eukaryota      Metazoa  Arthropoda     Insecta  Lepidoptera   \n",
       "4         Eukaryota      Metazoa    Annelida  Polychaeta     Eunicida   \n",
       "\n",
       "     family_name   genus_name       species_name  \n",
       "0     Hepialidae      Bordaia     Bordaia karnka  \n",
       "1     Hepialidae      Bordaia     Bordaia karnka  \n",
       "2       Erebidae        Amata          Amata pr.  \n",
       "3     Euteliidae   Lophoptera     Lophoptera pr.  \n",
       "4  Lumbrineridae  Abyssoninoe  Abyssoninoe scopa  "
      ]
     },
     "execution_count": 2,
     "metadata": {},
     "output_type": "execute_result"
    }
   ],
   "source": [
    "# Load the processed taxonomy data\n",
    "data_path = '../data/merged/final_taxonomy.csv'\n",
    "df = pd.read_csv(data_path, dtype=str)\n",
    "print(f\"Dataset shape: {df.shape}\")\n",
    "df.head()"
   ]
  },
  {
   "cell_type": "code",
   "execution_count": 4,
   "id": "227bd76f",
   "metadata": {},
   "outputs": [
    {
     "name": "stdout",
     "output_type": "stream",
     "text": [
      "Total number of sequences: 3221455\n",
      "Unique taxonomic IDs: 252200\n"
     ]
    }
   ],
   "source": [
    "# Basic statistics\n",
    "print(f\"Total number of sequences: {len(df)}\")\n",
    "print(f\"Unique taxonomic IDs: {df['taxID'].nunique()}\")"
   ]
  },
  {
   "cell_type": "code",
   "execution_count": null,
   "id": "48b300e7",
   "metadata": {},
   "outputs": [],
   "source": []
  }
 ],
 "metadata": {
  "kernelspec": {
   "display_name": "taxo_env",
   "language": "python",
   "name": "python3"
  },
  "language_info": {
   "codemirror_mode": {
    "name": "ipython",
    "version": 3
   },
   "file_extension": ".py",
   "mimetype": "text/x-python",
   "name": "python",
   "nbconvert_exporter": "python",
   "pygments_lexer": "ipython3",
   "version": "3.10.16"
  }
 },
 "nbformat": 4,
 "nbformat_minor": 5
}
